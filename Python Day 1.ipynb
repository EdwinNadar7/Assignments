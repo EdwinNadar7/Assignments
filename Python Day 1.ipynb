{
 "cells": [
  {
   "cell_type": "code",
   "execution_count": 1,
   "id": "93e2a781",
   "metadata": {
    "ExecuteTime": {
     "end_time": "2022-11-24T05:11:51.738036Z",
     "start_time": "2022-11-24T05:11:51.722018Z"
    }
   },
   "outputs": [],
   "source": [
    "lst = []"
   ]
  },
  {
   "cell_type": "code",
   "execution_count": 2,
   "id": "f743243e",
   "metadata": {
    "ExecuteTime": {
     "end_time": "2022-11-24T05:11:51.753837Z",
     "start_time": "2022-11-24T05:11:51.738036Z"
    }
   },
   "outputs": [
    {
     "data": {
      "text/plain": [
       "list"
      ]
     },
     "execution_count": 2,
     "metadata": {},
     "output_type": "execute_result"
    }
   ],
   "source": [
    "type(lst)"
   ]
  },
  {
   "cell_type": "code",
   "execution_count": 3,
   "id": "ea64084a",
   "metadata": {
    "ExecuteTime": {
     "end_time": "2022-11-24T05:11:51.770408Z",
     "start_time": "2022-11-24T05:11:51.757565Z"
    }
   },
   "outputs": [],
   "source": [
    "lst=[10,10.5,1000,True,'hello',50000,4736,983]"
   ]
  },
  {
   "cell_type": "code",
   "execution_count": 4,
   "id": "b0ecea41",
   "metadata": {
    "ExecuteTime": {
     "end_time": "2022-11-24T05:11:51.785688Z",
     "start_time": "2022-11-24T05:11:51.770408Z"
    }
   },
   "outputs": [
    {
     "data": {
      "text/plain": [
       "[10, 10.5, 1000, True, 'hello', 50000, 4736, 983]"
      ]
     },
     "execution_count": 4,
     "metadata": {},
     "output_type": "execute_result"
    }
   ],
   "source": [
    "lst"
   ]
  },
  {
   "cell_type": "code",
   "execution_count": 5,
   "id": "b4a4b5b9",
   "metadata": {
    "ExecuteTime": {
     "end_time": "2022-11-24T05:11:51.803382Z",
     "start_time": "2022-11-24T05:11:51.787776Z"
    }
   },
   "outputs": [
    {
     "data": {
      "text/plain": [
       "list"
      ]
     },
     "execution_count": 5,
     "metadata": {},
     "output_type": "execute_result"
    }
   ],
   "source": [
    "type(lst)"
   ]
  },
  {
   "cell_type": "code",
   "execution_count": 7,
   "id": "86a9965e",
   "metadata": {
    "ExecuteTime": {
     "end_time": "2022-11-24T05:11:57.233056Z",
     "start_time": "2022-11-24T05:11:57.216548Z"
    }
   },
   "outputs": [
    {
     "data": {
      "text/plain": [
       "True"
      ]
     },
     "execution_count": 7,
     "metadata": {},
     "output_type": "execute_result"
    }
   ],
   "source": [
    "lst[3]"
   ]
  },
  {
   "cell_type": "code",
   "execution_count": null,
   "id": "9c2193ad",
   "metadata": {
    "ExecuteTime": {
     "end_time": "2022-11-24T05:11:52.067294Z",
     "start_time": "2022-11-24T05:11:52.067294Z"
    }
   },
   "outputs": [],
   "source": [
    "lst"
   ]
  },
  {
   "cell_type": "code",
   "execution_count": null,
   "id": "681f3d3a",
   "metadata": {
    "ExecuteTime": {
     "end_time": "2022-11-24T05:11:52.067294Z",
     "start_time": "2022-11-24T05:11:52.067294Z"
    }
   },
   "outputs": [],
   "source": [
    "lst[0:4]"
   ]
  },
  {
   "cell_type": "code",
   "execution_count": 9,
   "id": "1de0452b",
   "metadata": {
    "ExecuteTime": {
     "end_time": "2022-11-24T05:12:53.885952Z",
     "start_time": "2022-11-24T05:12:53.862979Z"
    }
   },
   "outputs": [
    {
     "data": {
      "text/plain": [
       "50000"
      ]
     },
     "execution_count": 9,
     "metadata": {},
     "output_type": "execute_result"
    }
   ],
   "source": [
    "lst[5]"
   ]
  },
  {
   "cell_type": "code",
   "execution_count": null,
   "id": "bbf288b6",
   "metadata": {
    "ExecuteTime": {
     "end_time": "2022-11-24T05:11:52.075347Z",
     "start_time": "2022-11-24T05:11:52.075347Z"
    }
   },
   "outputs": [],
   "source": [
    "lst(1,3)"
   ]
  },
  {
   "cell_type": "code",
   "execution_count": 10,
   "id": "adeacebb",
   "metadata": {
    "ExecuteTime": {
     "end_time": "2022-11-24T05:14:14.833838Z",
     "start_time": "2022-11-24T05:14:14.816856Z"
    }
   },
   "outputs": [],
   "source": [
    "lst.append(3000)"
   ]
  },
  {
   "cell_type": "code",
   "execution_count": 11,
   "id": "40f1c3e5",
   "metadata": {
    "ExecuteTime": {
     "end_time": "2022-11-24T05:14:25.707658Z",
     "start_time": "2022-11-24T05:14:25.686706Z"
    }
   },
   "outputs": [
    {
     "data": {
      "text/plain": [
       "[10, 10.5, 1000, True, 'hello', 50000, 4736, 983, 3000]"
      ]
     },
     "execution_count": 11,
     "metadata": {},
     "output_type": "execute_result"
    }
   ],
   "source": [
    "lst"
   ]
  },
  {
   "cell_type": "code",
   "execution_count": 13,
   "id": "3f58d49f",
   "metadata": {
    "ExecuteTime": {
     "end_time": "2022-11-24T05:17:25.271209Z",
     "start_time": "2022-11-24T05:17:25.262155Z"
    }
   },
   "outputs": [
    {
     "data": {
      "text/plain": [
       "1"
      ]
     },
     "execution_count": 13,
     "metadata": {},
     "output_type": "execute_result"
    }
   ],
   "source": [
    "lst.index(10.5)"
   ]
  },
  {
   "cell_type": "code",
   "execution_count": 14,
   "id": "4bc16cb7",
   "metadata": {
    "ExecuteTime": {
     "end_time": "2022-11-24T05:17:57.213184Z",
     "start_time": "2022-11-24T05:17:57.200287Z"
    }
   },
   "outputs": [
    {
     "data": {
      "text/plain": [
       "[10, 10.5, 1000, True, 'hello', 50000, 4736, 983, 3000]"
      ]
     },
     "execution_count": 14,
     "metadata": {},
     "output_type": "execute_result"
    }
   ],
   "source": [
    "lst"
   ]
  },
  {
   "cell_type": "code",
   "execution_count": 15,
   "id": "4548eb37",
   "metadata": {
    "ExecuteTime": {
     "end_time": "2022-11-24T05:18:19.751797Z",
     "start_time": "2022-11-24T05:18:19.739776Z"
    }
   },
   "outputs": [],
   "source": [
    "lst.insert(4,8000)"
   ]
  },
  {
   "cell_type": "code",
   "execution_count": 16,
   "id": "9c37c7ed",
   "metadata": {
    "ExecuteTime": {
     "end_time": "2022-11-24T05:18:22.458271Z",
     "start_time": "2022-11-24T05:18:22.444295Z"
    }
   },
   "outputs": [
    {
     "data": {
      "text/plain": [
       "[10, 10.5, 1000, True, 8000, 'hello', 50000, 4736, 983, 3000]"
      ]
     },
     "execution_count": 16,
     "metadata": {},
     "output_type": "execute_result"
    }
   ],
   "source": [
    "lst"
   ]
  },
  {
   "cell_type": "code",
   "execution_count": 17,
   "id": "d35622f1",
   "metadata": {
    "ExecuteTime": {
     "end_time": "2022-11-24T05:18:36.924976Z",
     "start_time": "2022-11-24T05:18:36.904095Z"
    }
   },
   "outputs": [
    {
     "data": {
      "text/plain": [
       "3000"
      ]
     },
     "execution_count": 17,
     "metadata": {},
     "output_type": "execute_result"
    }
   ],
   "source": [
    "lst.pop()"
   ]
  },
  {
   "cell_type": "code",
   "execution_count": 18,
   "id": "8d477da3",
   "metadata": {
    "ExecuteTime": {
     "end_time": "2022-11-24T05:18:41.047712Z",
     "start_time": "2022-11-24T05:18:41.036733Z"
    }
   },
   "outputs": [
    {
     "data": {
      "text/plain": [
       "[10, 10.5, 1000, True, 8000, 'hello', 50000, 4736, 983]"
      ]
     },
     "execution_count": 18,
     "metadata": {},
     "output_type": "execute_result"
    }
   ],
   "source": [
    "lst"
   ]
  },
  {
   "cell_type": "code",
   "execution_count": 19,
   "id": "d8020f90",
   "metadata": {
    "ExecuteTime": {
     "end_time": "2022-11-24T05:19:27.478923Z",
     "start_time": "2022-11-24T05:19:27.465042Z"
    }
   },
   "outputs": [],
   "source": [
    "lst.reverse()"
   ]
  },
  {
   "cell_type": "code",
   "execution_count": 20,
   "id": "20b63d08",
   "metadata": {
    "ExecuteTime": {
     "end_time": "2022-11-24T05:19:30.139542Z",
     "start_time": "2022-11-24T05:19:30.119551Z"
    }
   },
   "outputs": [
    {
     "data": {
      "text/plain": [
       "[983, 4736, 50000, 'hello', 8000, True, 1000, 10.5, 10]"
      ]
     },
     "execution_count": 20,
     "metadata": {},
     "output_type": "execute_result"
    }
   ],
   "source": [
    "lst"
   ]
  },
  {
   "cell_type": "code",
   "execution_count": 21,
   "id": "37ad6f38",
   "metadata": {
    "ExecuteTime": {
     "end_time": "2022-11-24T05:19:55.004381Z",
     "start_time": "2022-11-24T05:19:54.997380Z"
    }
   },
   "outputs": [],
   "source": [
    "lst.remove(8000)"
   ]
  },
  {
   "cell_type": "code",
   "execution_count": 22,
   "id": "83532e3c",
   "metadata": {
    "ExecuteTime": {
     "end_time": "2022-11-24T05:19:57.228205Z",
     "start_time": "2022-11-24T05:19:57.214222Z"
    }
   },
   "outputs": [
    {
     "data": {
      "text/plain": [
       "[983, 4736, 50000, 'hello', True, 1000, 10.5, 10]"
      ]
     },
     "execution_count": 22,
     "metadata": {},
     "output_type": "execute_result"
    }
   ],
   "source": [
    "lst"
   ]
  },
  {
   "cell_type": "code",
   "execution_count": 23,
   "id": "27bff752",
   "metadata": {
    "ExecuteTime": {
     "end_time": "2022-11-24T05:23:46.830574Z",
     "start_time": "2022-11-24T05:23:46.816564Z"
    }
   },
   "outputs": [],
   "source": [
    "lst[-2] = 'tiger'"
   ]
  },
  {
   "cell_type": "code",
   "execution_count": 24,
   "id": "f12250e8",
   "metadata": {
    "ExecuteTime": {
     "end_time": "2022-11-24T05:23:49.369344Z",
     "start_time": "2022-11-24T05:23:49.360319Z"
    }
   },
   "outputs": [
    {
     "data": {
      "text/plain": [
       "[983, 4736, 50000, 'hello', True, 1000, 'tiger', 10]"
      ]
     },
     "execution_count": 24,
     "metadata": {},
     "output_type": "execute_result"
    }
   ],
   "source": [
    "lst"
   ]
  },
  {
   "cell_type": "code",
   "execution_count": 26,
   "id": "892149c4",
   "metadata": {
    "ExecuteTime": {
     "end_time": "2022-11-24T05:25:04.308383Z",
     "start_time": "2022-11-24T05:25:04.302359Z"
    }
   },
   "outputs": [],
   "source": [
    "lst.insert(2,'RD')"
   ]
  },
  {
   "cell_type": "code",
   "execution_count": 27,
   "id": "2c854f6e",
   "metadata": {
    "ExecuteTime": {
     "end_time": "2022-11-24T05:25:11.743400Z",
     "start_time": "2022-11-24T05:25:11.734420Z"
    }
   },
   "outputs": [
    {
     "data": {
      "text/plain": [
       "[983, 4736, 'RD', 50000, 'hello', True, 1000, 'tiger', 10]"
      ]
     },
     "execution_count": 27,
     "metadata": {},
     "output_type": "execute_result"
    }
   ],
   "source": [
    "lst"
   ]
  },
  {
   "cell_type": "code",
   "execution_count": 28,
   "id": "e021eb99",
   "metadata": {
    "ExecuteTime": {
     "end_time": "2022-11-24T05:31:52.857334Z",
     "start_time": "2022-11-24T05:31:52.843446Z"
    }
   },
   "outputs": [],
   "source": [
    "tuple=(10,27,43,65,83,27,67,524,987)"
   ]
  },
  {
   "cell_type": "code",
   "execution_count": 29,
   "id": "9273e8ad",
   "metadata": {
    "ExecuteTime": {
     "end_time": "2022-11-24T05:32:00.935050Z",
     "start_time": "2022-11-24T05:32:00.919391Z"
    }
   },
   "outputs": [
    {
     "data": {
      "text/plain": [
       "(10, 27, 43, 65, 83, 27, 67, 524, 987)"
      ]
     },
     "execution_count": 29,
     "metadata": {},
     "output_type": "execute_result"
    }
   ],
   "source": [
    "tuple"
   ]
  },
  {
   "cell_type": "code",
   "execution_count": 30,
   "id": "69ca6ff9",
   "metadata": {
    "ExecuteTime": {
     "end_time": "2022-11-24T05:43:07.558955Z",
     "start_time": "2022-11-24T05:43:07.538051Z"
    }
   },
   "outputs": [
    {
     "ename": "NameError",
     "evalue": "name 't' is not defined",
     "output_type": "error",
     "traceback": [
      "\u001b[1;31m---------------------------------------------------------------------------\u001b[0m",
      "\u001b[1;31mNameError\u001b[0m                                 Traceback (most recent call last)",
      "\u001b[1;32m~\\AppData\\Local\\Temp\\ipykernel_8376\\3790515489.py\u001b[0m in \u001b[0;36m<module>\u001b[1;34m\u001b[0m\n\u001b[1;32m----> 1\u001b[1;33m \u001b[0mt\u001b[0m\u001b[1;33m\u001b[0m\u001b[1;33m\u001b[0m\u001b[0m\n\u001b[0m",
      "\u001b[1;31mNameError\u001b[0m: name 't' is not defined"
     ]
    }
   ],
   "source": [
    "t"
   ]
  },
  {
   "cell_type": "code",
   "execution_count": 31,
   "id": "78aea723",
   "metadata": {
    "ExecuteTime": {
     "end_time": "2022-11-24T05:43:26.277876Z",
     "start_time": "2022-11-24T05:43:26.256893Z"
    }
   },
   "outputs": [
    {
     "data": {
      "text/plain": [
       "1"
      ]
     },
     "execution_count": 31,
     "metadata": {},
     "output_type": "execute_result"
    }
   ],
   "source": [
    "tuple.count(67)"
   ]
  },
  {
   "cell_type": "code",
   "execution_count": 32,
   "id": "8a21cf6e",
   "metadata": {
    "ExecuteTime": {
     "end_time": "2022-11-24T05:44:19.241895Z",
     "start_time": "2022-11-24T05:44:19.223896Z"
    }
   },
   "outputs": [],
   "source": [
    "tuple=list(tuple)"
   ]
  },
  {
   "cell_type": "code",
   "execution_count": 33,
   "id": "288b01e6",
   "metadata": {
    "ExecuteTime": {
     "end_time": "2022-11-24T05:44:40.156489Z",
     "start_time": "2022-11-24T05:44:40.136574Z"
    }
   },
   "outputs": [],
   "source": [
    "tuple=(3.6000)"
   ]
  },
  {
   "cell_type": "code",
   "execution_count": 34,
   "id": "192bda38",
   "metadata": {
    "ExecuteTime": {
     "end_time": "2022-11-24T05:44:43.784581Z",
     "start_time": "2022-11-24T05:44:43.772582Z"
    }
   },
   "outputs": [
    {
     "data": {
      "text/plain": [
       "3.6"
      ]
     },
     "execution_count": 34,
     "metadata": {},
     "output_type": "execute_result"
    }
   ],
   "source": [
    "tuple"
   ]
  },
  {
   "cell_type": "code",
   "execution_count": 35,
   "id": "c76f46fb",
   "metadata": {
    "ExecuteTime": {
     "end_time": "2022-11-24T05:45:04.085071Z",
     "start_time": "2022-11-24T05:45:04.070711Z"
    }
   },
   "outputs": [
    {
     "data": {
      "text/plain": [
       "3.6"
      ]
     },
     "execution_count": 35,
     "metadata": {},
     "output_type": "execute_result"
    }
   ],
   "source": [
    "tuple"
   ]
  },
  {
   "cell_type": "code",
   "execution_count": 36,
   "id": "550ebf18",
   "metadata": {
    "ExecuteTime": {
     "end_time": "2022-11-24T05:45:29.611598Z",
     "start_time": "2022-11-24T05:45:29.596618Z"
    }
   },
   "outputs": [],
   "source": [
    "tuple=(12,10,12,19,10,10,10,14,17,19)"
   ]
  },
  {
   "cell_type": "code",
   "execution_count": 37,
   "id": "4f942704",
   "metadata": {
    "ExecuteTime": {
     "end_time": "2022-11-24T05:45:35.382808Z",
     "start_time": "2022-11-24T05:45:35.370827Z"
    }
   },
   "outputs": [
    {
     "data": {
      "text/plain": [
       "(12, 10, 12, 19, 10, 10, 10, 14, 17, 19)"
      ]
     },
     "execution_count": 37,
     "metadata": {},
     "output_type": "execute_result"
    }
   ],
   "source": [
    "tuple"
   ]
  },
  {
   "cell_type": "code",
   "execution_count": 38,
   "id": "63a0f87f",
   "metadata": {
    "ExecuteTime": {
     "end_time": "2022-11-24T05:46:00.408582Z",
     "start_time": "2022-11-24T05:46:00.387600Z"
    }
   },
   "outputs": [
    {
     "ename": "TypeError",
     "evalue": "'tuple' object does not support item assignment",
     "output_type": "error",
     "traceback": [
      "\u001b[1;31m---------------------------------------------------------------------------\u001b[0m",
      "\u001b[1;31mTypeError\u001b[0m                                 Traceback (most recent call last)",
      "\u001b[1;32m~\\AppData\\Local\\Temp\\ipykernel_8376\\1412851179.py\u001b[0m in \u001b[0;36m<module>\u001b[1;34m\u001b[0m\n\u001b[1;32m----> 1\u001b[1;33m \u001b[0mtuple\u001b[0m\u001b[1;33m[\u001b[0m\u001b[1;36m4\u001b[0m\u001b[1;33m]\u001b[0m\u001b[1;33m=\u001b[0m\u001b[1;36m5999\u001b[0m\u001b[1;33m\u001b[0m\u001b[1;33m\u001b[0m\u001b[0m\n\u001b[0m",
      "\u001b[1;31mTypeError\u001b[0m: 'tuple' object does not support item assignment"
     ]
    }
   ],
   "source": [
    "tuple[4]=5999"
   ]
  },
  {
   "cell_type": "code",
   "execution_count": 39,
   "id": "ea37b3d2",
   "metadata": {
    "ExecuteTime": {
     "end_time": "2022-11-24T05:46:17.478754Z",
     "start_time": "2022-11-24T05:46:17.470757Z"
    }
   },
   "outputs": [],
   "source": [
    "tuple=list(tuple)"
   ]
  },
  {
   "cell_type": "code",
   "execution_count": 40,
   "id": "f02b5a3c",
   "metadata": {
    "ExecuteTime": {
     "end_time": "2022-11-24T05:46:30.345768Z",
     "start_time": "2022-11-24T05:46:30.327409Z"
    }
   },
   "outputs": [
    {
     "data": {
      "text/plain": [
       "list"
      ]
     },
     "execution_count": 40,
     "metadata": {},
     "output_type": "execute_result"
    }
   ],
   "source": [
    "type(tuple)"
   ]
  },
  {
   "cell_type": "code",
   "execution_count": 41,
   "id": "cd298647",
   "metadata": {
    "ExecuteTime": {
     "end_time": "2022-11-24T05:46:43.658642Z",
     "start_time": "2022-11-24T05:46:43.643640Z"
    }
   },
   "outputs": [],
   "source": [
    "tuple[4]=6000"
   ]
  },
  {
   "cell_type": "code",
   "execution_count": 42,
   "id": "8d72a93e",
   "metadata": {
    "ExecuteTime": {
     "end_time": "2022-11-24T05:46:46.373143Z",
     "start_time": "2022-11-24T05:46:46.355144Z"
    }
   },
   "outputs": [
    {
     "data": {
      "text/plain": [
       "[12, 10, 12, 19, 6000, 10, 10, 14, 17, 19]"
      ]
     },
     "execution_count": 42,
     "metadata": {},
     "output_type": "execute_result"
    }
   ],
   "source": [
    "tuple"
   ]
  },
  {
   "cell_type": "code",
   "execution_count": 43,
   "id": "2fbac22d",
   "metadata": {
    "ExecuteTime": {
     "end_time": "2022-11-24T05:48:07.284269Z",
     "start_time": "2022-11-24T05:48:07.271309Z"
    }
   },
   "outputs": [
    {
     "ename": "TypeError",
     "evalue": "'list' object is not callable",
     "output_type": "error",
     "traceback": [
      "\u001b[1;31m---------------------------------------------------------------------------\u001b[0m",
      "\u001b[1;31mTypeError\u001b[0m                                 Traceback (most recent call last)",
      "\u001b[1;32m~\\AppData\\Local\\Temp\\ipykernel_8376\\1234264408.py\u001b[0m in \u001b[0;36m<module>\u001b[1;34m\u001b[0m\n\u001b[1;32m----> 1\u001b[1;33m \u001b[0mtuple\u001b[0m\u001b[1;33m=\u001b[0m\u001b[0mtuple\u001b[0m\u001b[1;33m(\u001b[0m\u001b[0mtuple\u001b[0m\u001b[1;33m)\u001b[0m\u001b[1;33m\u001b[0m\u001b[1;33m\u001b[0m\u001b[0m\n\u001b[0m",
      "\u001b[1;31mTypeError\u001b[0m: 'list' object is not callable"
     ]
    }
   ],
   "source": [
    "tuple=tuple(tuple)"
   ]
  },
  {
   "cell_type": "code",
   "execution_count": 44,
   "id": "522e668f",
   "metadata": {
    "ExecuteTime": {
     "end_time": "2022-11-24T05:48:31.733566Z",
     "start_time": "2022-11-24T05:48:31.710181Z"
    }
   },
   "outputs": [
    {
     "ename": "TypeError",
     "evalue": "'list' object is not callable",
     "output_type": "error",
     "traceback": [
      "\u001b[1;31m---------------------------------------------------------------------------\u001b[0m",
      "\u001b[1;31mTypeError\u001b[0m                                 Traceback (most recent call last)",
      "\u001b[1;32m~\\AppData\\Local\\Temp\\ipykernel_8376\\1234264408.py\u001b[0m in \u001b[0;36m<module>\u001b[1;34m\u001b[0m\n\u001b[1;32m----> 1\u001b[1;33m \u001b[0mtuple\u001b[0m\u001b[1;33m=\u001b[0m\u001b[0mtuple\u001b[0m\u001b[1;33m(\u001b[0m\u001b[0mtuple\u001b[0m\u001b[1;33m)\u001b[0m\u001b[1;33m\u001b[0m\u001b[1;33m\u001b[0m\u001b[0m\n\u001b[0m",
      "\u001b[1;31mTypeError\u001b[0m: 'list' object is not callable"
     ]
    }
   ],
   "source": [
    "tuple=tuple(tuple)"
   ]
  },
  {
   "cell_type": "code",
   "execution_count": 45,
   "id": "a546bde8",
   "metadata": {
    "ExecuteTime": {
     "end_time": "2022-11-24T05:49:01.071676Z",
     "start_time": "2022-11-24T05:49:01.059676Z"
    }
   },
   "outputs": [
    {
     "data": {
      "text/plain": [
       "list"
      ]
     },
     "execution_count": 45,
     "metadata": {},
     "output_type": "execute_result"
    }
   ],
   "source": [
    "type(tuple)"
   ]
  },
  {
   "cell_type": "code",
   "execution_count": 46,
   "id": "1c63f281",
   "metadata": {
    "ExecuteTime": {
     "end_time": "2022-11-24T05:49:19.958548Z",
     "start_time": "2022-11-24T05:49:19.942369Z"
    }
   },
   "outputs": [
    {
     "ename": "TypeError",
     "evalue": "'list' object is not callable",
     "output_type": "error",
     "traceback": [
      "\u001b[1;31m---------------------------------------------------------------------------\u001b[0m",
      "\u001b[1;31mTypeError\u001b[0m                                 Traceback (most recent call last)",
      "\u001b[1;32m~\\AppData\\Local\\Temp\\ipykernel_8376\\1319819367.py\u001b[0m in \u001b[0;36m<module>\u001b[1;34m\u001b[0m\n\u001b[1;32m----> 1\u001b[1;33m \u001b[0mtuple\u001b[0m\u001b[1;33m=\u001b[0m\u001b[0mtuple\u001b[0m\u001b[1;33m(\u001b[0m\u001b[0mlist\u001b[0m\u001b[1;33m)\u001b[0m\u001b[1;33m\u001b[0m\u001b[1;33m\u001b[0m\u001b[0m\n\u001b[0m",
      "\u001b[1;31mTypeError\u001b[0m: 'list' object is not callable"
     ]
    }
   ],
   "source": [
    "tuple=tuple(list)"
   ]
  },
  {
   "cell_type": "code",
   "execution_count": 47,
   "id": "8a74e446",
   "metadata": {
    "ExecuteTime": {
     "end_time": "2022-11-24T05:49:45.300243Z",
     "start_time": "2022-11-24T05:49:45.294242Z"
    }
   },
   "outputs": [],
   "source": [
    "tuple=list(tuple)"
   ]
  },
  {
   "cell_type": "code",
   "execution_count": 48,
   "id": "e8852756",
   "metadata": {
    "ExecuteTime": {
     "end_time": "2022-11-24T05:49:58.174809Z",
     "start_time": "2022-11-24T05:49:58.156809Z"
    }
   },
   "outputs": [
    {
     "data": {
      "text/plain": [
       "list"
      ]
     },
     "execution_count": 48,
     "metadata": {},
     "output_type": "execute_result"
    }
   ],
   "source": [
    "type(tuple)"
   ]
  },
  {
   "cell_type": "code",
   "execution_count": 49,
   "id": "d236c546",
   "metadata": {
    "ExecuteTime": {
     "end_time": "2022-11-24T05:50:29.147695Z",
     "start_time": "2022-11-24T05:50:29.136778Z"
    }
   },
   "outputs": [
    {
     "ename": "TypeError",
     "evalue": "'list' object is not callable",
     "output_type": "error",
     "traceback": [
      "\u001b[1;31m---------------------------------------------------------------------------\u001b[0m",
      "\u001b[1;31mTypeError\u001b[0m                                 Traceback (most recent call last)",
      "\u001b[1;32m~\\AppData\\Local\\Temp\\ipykernel_8376\\1319819367.py\u001b[0m in \u001b[0;36m<module>\u001b[1;34m\u001b[0m\n\u001b[1;32m----> 1\u001b[1;33m \u001b[0mtuple\u001b[0m\u001b[1;33m=\u001b[0m\u001b[0mtuple\u001b[0m\u001b[1;33m(\u001b[0m\u001b[0mlist\u001b[0m\u001b[1;33m)\u001b[0m\u001b[1;33m\u001b[0m\u001b[1;33m\u001b[0m\u001b[0m\n\u001b[0m",
      "\u001b[1;31mTypeError\u001b[0m: 'list' object is not callable"
     ]
    }
   ],
   "source": [
    "tuple=tuple(list)"
   ]
  },
  {
   "cell_type": "code",
   "execution_count": 50,
   "id": "771fdba4",
   "metadata": {
    "ExecuteTime": {
     "end_time": "2022-11-24T05:50:46.493681Z",
     "start_time": "2022-11-24T05:50:46.472623Z"
    }
   },
   "outputs": [],
   "source": [
    "d={}"
   ]
  },
  {
   "cell_type": "code",
   "execution_count": 51,
   "id": "0e9eeb16",
   "metadata": {
    "ExecuteTime": {
     "end_time": "2022-11-24T05:50:50.310595Z",
     "start_time": "2022-11-24T05:50:50.289367Z"
    }
   },
   "outputs": [
    {
     "data": {
      "text/plain": [
       "{}"
      ]
     },
     "execution_count": 51,
     "metadata": {},
     "output_type": "execute_result"
    }
   ],
   "source": [
    "d"
   ]
  },
  {
   "cell_type": "code",
   "execution_count": null,
   "id": "54349dec",
   "metadata": {},
   "outputs": [],
   "source": []
  },
  {
   "cell_type": "code",
   "execution_count": 52,
   "id": "6fc142fe",
   "metadata": {
    "ExecuteTime": {
     "end_time": "2022-11-24T05:51:24.820938Z",
     "start_time": "2022-11-24T05:51:24.808889Z"
    }
   },
   "outputs": [],
   "source": [
    "d={1:10,2:20,3:30}"
   ]
  },
  {
   "cell_type": "code",
   "execution_count": 53,
   "id": "a66a4852",
   "metadata": {
    "ExecuteTime": {
     "end_time": "2022-11-24T05:51:28.278964Z",
     "start_time": "2022-11-24T05:51:28.256981Z"
    }
   },
   "outputs": [
    {
     "data": {
      "text/plain": [
       "{1: 10, 2: 20, 3: 30}"
      ]
     },
     "execution_count": 53,
     "metadata": {},
     "output_type": "execute_result"
    }
   ],
   "source": [
    "d"
   ]
  },
  {
   "cell_type": "code",
   "execution_count": 54,
   "id": "e0e1c915",
   "metadata": {
    "ExecuteTime": {
     "end_time": "2022-11-24T05:51:48.015232Z",
     "start_time": "2022-11-24T05:51:47.997339Z"
    }
   },
   "outputs": [
    {
     "data": {
      "text/plain": [
       "20"
      ]
     },
     "execution_count": 54,
     "metadata": {},
     "output_type": "execute_result"
    }
   ],
   "source": [
    "d.get(2)"
   ]
  },
  {
   "cell_type": "code",
   "execution_count": 55,
   "id": "1633b939",
   "metadata": {
    "ExecuteTime": {
     "end_time": "2022-11-24T05:52:11.512942Z",
     "start_time": "2022-11-24T05:52:11.487511Z"
    }
   },
   "outputs": [
    {
     "ename": "TypeError",
     "evalue": "dict.items() takes no arguments (1 given)",
     "output_type": "error",
     "traceback": [
      "\u001b[1;31m---------------------------------------------------------------------------\u001b[0m",
      "\u001b[1;31mTypeError\u001b[0m                                 Traceback (most recent call last)",
      "\u001b[1;32m~\\AppData\\Local\\Temp\\ipykernel_8376\\3188100277.py\u001b[0m in \u001b[0;36m<module>\u001b[1;34m\u001b[0m\n\u001b[1;32m----> 1\u001b[1;33m \u001b[0md\u001b[0m\u001b[1;33m.\u001b[0m\u001b[0mitems\u001b[0m\u001b[1;33m(\u001b[0m\u001b[1;36m4\u001b[0m\u001b[1;33m)\u001b[0m\u001b[1;33m\u001b[0m\u001b[1;33m\u001b[0m\u001b[0m\n\u001b[0m",
      "\u001b[1;31mTypeError\u001b[0m: dict.items() takes no arguments (1 given)"
     ]
    }
   ],
   "source": [
    "d.items(4)"
   ]
  },
  {
   "cell_type": "code",
   "execution_count": 56,
   "id": "04225559",
   "metadata": {
    "ExecuteTime": {
     "end_time": "2022-11-24T05:53:09.781037Z",
     "start_time": "2022-11-24T05:53:09.765056Z"
    }
   },
   "outputs": [],
   "source": [
    "d[3]=40"
   ]
  },
  {
   "cell_type": "code",
   "execution_count": 57,
   "id": "99e2012b",
   "metadata": {
    "ExecuteTime": {
     "end_time": "2022-11-24T05:53:13.641334Z",
     "start_time": "2022-11-24T05:53:13.632396Z"
    }
   },
   "outputs": [
    {
     "data": {
      "text/plain": [
       "{1: 10, 2: 20, 3: 40}"
      ]
     },
     "execution_count": 57,
     "metadata": {},
     "output_type": "execute_result"
    }
   ],
   "source": [
    "d"
   ]
  },
  {
   "cell_type": "code",
   "execution_count": 58,
   "id": "1d643d5e",
   "metadata": {
    "ExecuteTime": {
     "end_time": "2022-11-24T05:53:52.386625Z",
     "start_time": "2022-11-24T05:53:52.374632Z"
    }
   },
   "outputs": [
    {
     "data": {
      "text/plain": [
       "dict_items([(1, 10), (2, 20), (3, 40)])"
      ]
     },
     "execution_count": 58,
     "metadata": {},
     "output_type": "execute_result"
    }
   ],
   "source": [
    "d.items()"
   ]
  },
  {
   "cell_type": "code",
   "execution_count": 59,
   "id": "8266ab37",
   "metadata": {
    "ExecuteTime": {
     "end_time": "2022-11-24T05:54:06.533674Z",
     "start_time": "2022-11-24T05:54:06.524665Z"
    }
   },
   "outputs": [
    {
     "data": {
      "text/plain": [
       "dict_keys([1, 2, 3])"
      ]
     },
     "execution_count": 59,
     "metadata": {},
     "output_type": "execute_result"
    }
   ],
   "source": [
    "d.keys()"
   ]
  },
  {
   "cell_type": "code",
   "execution_count": 60,
   "id": "a2346fbd",
   "metadata": {
    "ExecuteTime": {
     "end_time": "2022-11-24T05:56:57.294767Z",
     "start_time": "2022-11-24T05:56:57.288762Z"
    }
   },
   "outputs": [],
   "source": [
    "d.update({4:50})"
   ]
  },
  {
   "cell_type": "code",
   "execution_count": 61,
   "id": "99afc13f",
   "metadata": {
    "ExecuteTime": {
     "end_time": "2022-11-24T05:57:01.780477Z",
     "start_time": "2022-11-24T05:57:01.763233Z"
    }
   },
   "outputs": [
    {
     "data": {
      "text/plain": [
       "{1: 10, 2: 20, 3: 40, 4: 50}"
      ]
     },
     "execution_count": 61,
     "metadata": {},
     "output_type": "execute_result"
    }
   ],
   "source": [
    "d"
   ]
  },
  {
   "cell_type": "code",
   "execution_count": 62,
   "id": "e27bbc86",
   "metadata": {
    "ExecuteTime": {
     "end_time": "2022-11-24T05:57:22.089343Z",
     "start_time": "2022-11-24T05:57:22.072844Z"
    }
   },
   "outputs": [
    {
     "data": {
      "text/plain": [
       "dict_values([10, 20, 40, 50])"
      ]
     },
     "execution_count": 62,
     "metadata": {},
     "output_type": "execute_result"
    }
   ],
   "source": [
    "d.values()"
   ]
  },
  {
   "cell_type": "code",
   "execution_count": 63,
   "id": "56aafe50",
   "metadata": {
    "ExecuteTime": {
     "end_time": "2022-11-24T05:57:28.767105Z",
     "start_time": "2022-11-24T05:57:28.757017Z"
    }
   },
   "outputs": [
    {
     "ename": "SyntaxError",
     "evalue": "invalid syntax (2042807600.py, line 1)",
     "output_type": "error",
     "traceback": [
      "\u001b[1;36m  File \u001b[1;32m\"C:\\Users\\Edwin7\\AppData\\Local\\Temp\\ipykernel_8376\\2042807600.py\"\u001b[1;36m, line \u001b[1;32m1\u001b[0m\n\u001b[1;33m    d.values{}\u001b[0m\n\u001b[1;37m            ^\u001b[0m\n\u001b[1;31mSyntaxError\u001b[0m\u001b[1;31m:\u001b[0m invalid syntax\n"
     ]
    }
   ],
   "source": [
    "d.values{}"
   ]
  },
  {
   "cell_type": "code",
   "execution_count": 64,
   "id": "0457ccb8",
   "metadata": {
    "ExecuteTime": {
     "end_time": "2022-11-24T05:57:37.720212Z",
     "start_time": "2022-11-24T05:57:37.699311Z"
    }
   },
   "outputs": [
    {
     "ename": "SyntaxError",
     "evalue": "invalid syntax (2481567352.py, line 1)",
     "output_type": "error",
     "traceback": [
      "\u001b[1;36m  File \u001b[1;32m\"C:\\Users\\Edwin7\\AppData\\Local\\Temp\\ipykernel_8376\\2481567352.py\"\u001b[1;36m, line \u001b[1;32m1\u001b[0m\n\u001b[1;33m    d.values[]\u001b[0m\n\u001b[1;37m             ^\u001b[0m\n\u001b[1;31mSyntaxError\u001b[0m\u001b[1;31m:\u001b[0m invalid syntax\n"
     ]
    }
   ],
   "source": [
    "d.values[]"
   ]
  },
  {
   "cell_type": "code",
   "execution_count": 65,
   "id": "385d26f9",
   "metadata": {
    "ExecuteTime": {
     "end_time": "2022-11-24T05:57:41.448354Z",
     "start_time": "2022-11-24T05:57:41.440331Z"
    }
   },
   "outputs": [
    {
     "data": {
      "text/plain": [
       "{1: 10, 2: 20, 3: 40, 4: 50}"
      ]
     },
     "execution_count": 65,
     "metadata": {},
     "output_type": "execute_result"
    }
   ],
   "source": [
    "d"
   ]
  },
  {
   "cell_type": "code",
   "execution_count": 68,
   "id": "1f88a390",
   "metadata": {
    "ExecuteTime": {
     "end_time": "2022-11-24T05:59:43.866522Z",
     "start_time": "2022-11-24T05:59:43.853504Z"
    }
   },
   "outputs": [],
   "source": [
    "d.update({'Rohan':'No teeth'})"
   ]
  },
  {
   "cell_type": "code",
   "execution_count": 69,
   "id": "d962fae9",
   "metadata": {
    "ExecuteTime": {
     "end_time": "2022-11-24T05:59:54.958636Z",
     "start_time": "2022-11-24T05:59:54.948639Z"
    }
   },
   "outputs": [
    {
     "data": {
      "text/plain": [
       "{1: 10, 2: 20, 3: 40, 4: 50, 'Rohan': 'No teeth'}"
      ]
     },
     "execution_count": 69,
     "metadata": {},
     "output_type": "execute_result"
    }
   ],
   "source": [
    "d"
   ]
  },
  {
   "cell_type": "markdown",
   "id": "f1278812",
   "metadata": {},
   "source": [
    "\n",
    "\n",
    "**SET**\n",
    "\n",
    "- Set is a collection which is unordered, unindexed.\n",
    "- Set is immutable\n",
    "- Set are unordered , so you cannot be sure in which order the items will appear.\n",
    "- Sets do not allow duplicate values.\n",
    "- Once a set is created, you cannot change its items, but you can remove items and add new items.\n",
    "- As sets are unordered, they do not support indexing and slicing operation."
   ]
  },
  {
   "cell_type": "code",
   "execution_count": 70,
   "id": "1e1304de",
   "metadata": {
    "ExecuteTime": {
     "end_time": "2022-11-24T06:09:15.087975Z",
     "start_time": "2022-11-24T06:09:15.074978Z"
    }
   },
   "outputs": [],
   "source": [
    "s={1,2,3,4,5,6,7,8,8,9}"
   ]
  },
  {
   "cell_type": "code",
   "execution_count": 71,
   "id": "fbd84716",
   "metadata": {
    "ExecuteTime": {
     "end_time": "2022-11-24T06:09:18.131555Z",
     "start_time": "2022-11-24T06:09:18.109444Z"
    }
   },
   "outputs": [
    {
     "data": {
      "text/plain": [
       "{1, 2, 3, 4, 5, 6, 7, 8, 9}"
      ]
     },
     "execution_count": 71,
     "metadata": {},
     "output_type": "execute_result"
    }
   ],
   "source": [
    "s"
   ]
  },
  {
   "cell_type": "code",
   "execution_count": 72,
   "id": "319e2274",
   "metadata": {
    "ExecuteTime": {
     "end_time": "2022-11-24T06:09:28.029772Z",
     "start_time": "2022-11-24T06:09:28.011408Z"
    }
   },
   "outputs": [
    {
     "data": {
      "text/plain": [
       "set"
      ]
     },
     "execution_count": 72,
     "metadata": {},
     "output_type": "execute_result"
    }
   ],
   "source": [
    "type(s)"
   ]
  },
  {
   "cell_type": "code",
   "execution_count": 73,
   "id": "2ec21e23",
   "metadata": {
    "ExecuteTime": {
     "end_time": "2022-11-24T06:09:55.626853Z",
     "start_time": "2022-11-24T06:09:55.604518Z"
    }
   },
   "outputs": [
    {
     "ename": "TypeError",
     "evalue": "'set' object is not subscriptable",
     "output_type": "error",
     "traceback": [
      "\u001b[1;31m---------------------------------------------------------------------------\u001b[0m",
      "\u001b[1;31mTypeError\u001b[0m                                 Traceback (most recent call last)",
      "\u001b[1;32m~\\AppData\\Local\\Temp\\ipykernel_8376\\1249360391.py\u001b[0m in \u001b[0;36m<module>\u001b[1;34m\u001b[0m\n\u001b[1;32m----> 1\u001b[1;33m \u001b[0ms\u001b[0m\u001b[1;33m[\u001b[0m\u001b[1;33m-\u001b[0m\u001b[1;36m2\u001b[0m\u001b[1;33m]\u001b[0m\u001b[1;33m\u001b[0m\u001b[1;33m\u001b[0m\u001b[0m\n\u001b[0m",
      "\u001b[1;31mTypeError\u001b[0m: 'set' object is not subscriptable"
     ]
    }
   ],
   "source": [
    "s[-2]"
   ]
  },
  {
   "cell_type": "code",
   "execution_count": 76,
   "id": "765f3b01",
   "metadata": {
    "ExecuteTime": {
     "end_time": "2022-11-24T06:16:16.925188Z",
     "start_time": "2022-11-24T06:16:16.906099Z"
    }
   },
   "outputs": [],
   "source": [
    "a={'apple','mango','cherry'}\n",
    "b={'microsoft','google','cherry'}"
   ]
  },
  {
   "cell_type": "code",
   "execution_count": 78,
   "id": "eee70826",
   "metadata": {
    "ExecuteTime": {
     "end_time": "2022-11-24T06:16:46.602912Z",
     "start_time": "2022-11-24T06:16:46.581931Z"
    }
   },
   "outputs": [
    {
     "data": {
      "text/plain": [
       "{'cherry', 'google', 'microsoft'}"
      ]
     },
     "execution_count": 78,
     "metadata": {},
     "output_type": "execute_result"
    }
   ],
   "source": [
    "b.intersection()"
   ]
  },
  {
   "cell_type": "code",
   "execution_count": 79,
   "id": "8820d46d",
   "metadata": {
    "ExecuteTime": {
     "end_time": "2022-11-24T06:17:42.532660Z",
     "start_time": "2022-11-24T06:17:42.518577Z"
    }
   },
   "outputs": [],
   "source": [
    "b.intersection_update()"
   ]
  },
  {
   "cell_type": "code",
   "execution_count": 80,
   "id": "ca4d9e41",
   "metadata": {
    "ExecuteTime": {
     "end_time": "2022-11-24T06:17:46.229454Z",
     "start_time": "2022-11-24T06:17:46.209455Z"
    }
   },
   "outputs": [
    {
     "data": {
      "text/plain": [
       "{'cherry', 'google', 'microsoft'}"
      ]
     },
     "execution_count": 80,
     "metadata": {},
     "output_type": "execute_result"
    }
   ],
   "source": [
    "b"
   ]
  },
  {
   "cell_type": "code",
   "execution_count": 81,
   "id": "418e012f",
   "metadata": {
    "ExecuteTime": {
     "end_time": "2022-11-24T06:18:53.266443Z",
     "start_time": "2022-11-24T06:18:53.250444Z"
    }
   },
   "outputs": [
    {
     "data": {
      "text/plain": [
       "{'cherry', 'google', 'microsoft'}"
      ]
     },
     "execution_count": 81,
     "metadata": {},
     "output_type": "execute_result"
    }
   ],
   "source": [
    "b.union()"
   ]
  },
  {
   "cell_type": "code",
   "execution_count": null,
   "id": "22faa97b",
   "metadata": {},
   "outputs": [],
   "source": []
  }
 ],
 "metadata": {
  "gist": {
   "data": {
    "description": "Untitled1.ipynb",
    "public": false
   },
   "id": ""
  },
  "kernelspec": {
   "display_name": "Python 3 (ipykernel)",
   "language": "python",
   "name": "python3"
  },
  "language_info": {
   "codemirror_mode": {
    "name": "ipython",
    "version": 3
   },
   "file_extension": ".py",
   "mimetype": "text/x-python",
   "name": "python",
   "nbconvert_exporter": "python",
   "pygments_lexer": "ipython3",
   "version": "3.9.13"
  }
 },
 "nbformat": 4,
 "nbformat_minor": 5
}
